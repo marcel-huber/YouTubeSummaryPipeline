{
 "cells": [
  {
   "cell_type": "markdown",
   "id": "3bf72e5b-c2f6-407c-bdc8-ce8141308c26",
   "metadata": {},
   "source": [
    "This notebook is an easy way to generate a summary of any given YouTube video! Many thanks to [1littlecoder](https://twitter.com/1littlecoder) for his YouTube video on [How to use ChatGPT in Python](https://www.youtube.com/watch?v=S3okwVkxDgA) from which I got the inspiration to implement this pipeline.\n",
    "\n",
    "If you like this guide, also check out my other tutorials or leave a like on Twitter:\n",
    "- My Medium: https://medium.com/@marcelhuber\n",
    "- My Twitter: https://twitter.com/marceljhuber"
   ]
  },
  {
   "cell_type": "markdown",
   "id": "8308592c-5feb-4cfd-bb63-f1d0d6396e3d",
   "metadata": {},
   "source": [
    "## Import packages:"
   ]
  },
  {
   "cell_type": "code",
   "execution_count": 1,
   "id": "b8f46a86-2954-4722-a7ff-5158f449c962",
   "metadata": {},
   "outputs": [],
   "source": [
    "import os\n",
    "import os.path\n",
    "import glob\n",
    "from pytube import YouTube\n",
    "from moviepy.editor import *\n",
    "import pywhisper\n",
    "from pyChatGPT import ChatGPT"
   ]
  },
  {
   "cell_type": "markdown",
   "id": "8b8a9d1e-1e6e-456d-9d19-27d49cf64586",
   "metadata": {},
   "source": [
    "## Enter the link of your desired YouTube video:"
   ]
  },
  {
   "cell_type": "code",
   "execution_count": null,
   "id": "3197aee9-0c92-4c38-bb0f-64c92e065725",
   "metadata": {},
   "outputs": [],
   "source": [
    "link = \"https://www.youtube.com/watch?v=9GkKZyIc9Vg\""
   ]
  },
  {
   "cell_type": "markdown",
   "id": "f5e2b31f-2ecd-43ec-8bb2-f9b1cade8fef",
   "metadata": {},
   "source": [
    "## Enter your personal session token or your login credentials of your Open-AI account:"
   ]
  },
  {
   "cell_type": "code",
   "execution_count": null,
   "id": "78363a58-a792-4676-ba80-234690b947da",
   "metadata": {},
   "outputs": [],
   "source": [
    "session_token = 'insertyourtoken'"
   ]
  },
  {
   "cell_type": "markdown",
   "id": "6d21a7c9-ce8d-4c45-b07b-fd42040a7a05",
   "metadata": {},
   "source": [
    "## Download the video:"
   ]
  },
  {
   "cell_type": "code",
   "execution_count": 2,
   "id": "81b6e6fb-a4da-4bcd-8c6f-ebf28bb4091a",
   "metadata": {},
   "outputs": [
    {
     "name": "stdout",
     "output_type": "stream",
     "text": [
      "Video Downloaded!\n"
     ]
    }
   ],
   "source": [
    "try:\n",
    "    yt = YouTube(link)\n",
    "    yt.streams.filter(progressive=True, file_extension='mp4').order_by(\n",
    "        'resolution')[-1].download(filename='output.mp4')\n",
    "    print('Video Downloaded!')\n",
    "except Exception as e:\n",
    "    print(\"Error occurred!\\n\", e)"
   ]
  },
  {
   "cell_type": "markdown",
   "id": "194a2581-bace-4725-9525-5bad8df4903e",
   "metadata": {},
   "source": [
    "## Convert the video to .mp3:"
   ]
  },
  {
   "cell_type": "code",
   "execution_count": 3,
   "id": "1d74c643-4564-4e32-bd44-47589a59ff37",
   "metadata": {},
   "outputs": [
    {
     "name": "stdout",
     "output_type": "stream",
     "text": [
      "MoviePy - Writing audio in output.mp3\n"
     ]
    },
    {
     "name": "stderr",
     "output_type": "stream",
     "text": [
      "                                                                                                                       "
     ]
    },
    {
     "name": "stdout",
     "output_type": "stream",
     "text": [
      "MoviePy - Done.\n"
     ]
    },
    {
     "name": "stderr",
     "output_type": "stream",
     "text": [
      "\r"
     ]
    }
   ],
   "source": [
    "def MP4ToMP3(mp4, mp3):\n",
    "    FILETOCONVERT = AudioFileClip(mp4)\n",
    "    FILETOCONVERT.write_audiofile(mp3)\n",
    "    FILETOCONVERT.close()\n",
    "\n",
    "MP4ToMP3('output.mp4', 'output.mp3')"
   ]
  },
  {
   "cell_type": "markdown",
   "id": "734461a8-82aa-4c1b-9e9b-e01b7ea24620",
   "metadata": {},
   "source": [
    "## Extract the text of the video:"
   ]
  },
  {
   "cell_type": "code",
   "execution_count": 4,
   "id": "ead3b709-f17c-4bce-8b6f-793e32240f67",
   "metadata": {},
   "outputs": [
    {
     "name": "stdout",
     "output_type": "stream",
     "text": [
      " Hello, Dizzy Stars! Cuttle up and get ready for a candy bedtime story with me. If you're new to the Dizzy Stars family, welcome and please subscribe because my library is full of books I'd love to read to you. Today we're going to read Hansel and Gretel, retold by Ronnie Randall, illustrated by Erica Jane Waters. Hansel and Gretel lived by the forest with their stepmother and their father, who was a poor woodcutter. One evening, the family had nothing to eat, but a few crusts of bread. Hansel and Gretel went to bed feeling hungry. As they lay there, they heard their stepmother and father talking. There are too many mouths to feed. Set their stepmother. We must take your children into the forest and leave them there. Never! Cry their father. Well, I'm not going to starve. Their stepmother burnt. The children are going and that is that. Gretel began to cry, but Hansel comforted her. Don't worry, I'll think of something. He promised. The next morning, Hansel and Gretel's stepmother woke the children at daybreak. Get up! She ordered. We're going into the forest to chuck wood! She gave Hansel and Gretel a crust of bread each for their lunch. Hansel broke his bread into tiny pieces in his pocket, and as they walked along, he secretly dropped a trail of crumbs on the ground. Deep in the forest, Hansel and Gretel's father built them a fire. Your stepmother and I are going to chuck wood now. He said. We'll return for you at sunset. After a while, the children shared Gretel's bread, and they curled up at the foot of an old oak tree and fell asleep. When Hansel and Gretel woke up, it was dark, and their little fire had gone out. I want to go home! Gretel went bird. Don't worry, said Hansel. We'll just follow the trail of bread crumbs they left. But the bread crumbs were gone! The forest birds had eaten them all up! We'll wait until morning. Hansel said. When it's light, we'll find her way home. The next morning, the children were woken by the sounds of birds singing. In the tree above them, a snow white bird flapped its wings as if to back in them. Look! Cried Hansel, maybe that bird will eat us home! But the white bird let them deeper into the forest, to a little housemaid of gingerbread. The roof was dripping with sugary icing. The windows were framed with candy canes, and the yard was filled with colorful lollipops. Delighted, the hungry children began to feast upon the candies. Suddenly, the door creaked open, and a croaky voice came from inside. Nibble nibble like a mouse, who was nibbling at my house? An old woman hobbled out, leaning on her crooked stick. I can't see very well. Who are you? She asked. Just two hungry children. Hansel replied. Ah, said the old woman. Well, you'd better come inside, and I will make you a proper meal. The old woman placed a plate before Hansel and Gretel, piled high with delicious pancakes. They ate and ate until they were ready to burst. Then, she showed them two little beds. Hansel and Gretel snuggle down under the soft blankets and fell fast asleep. But Hansel and Gretel didn't know that the kind old woman was really a wicked witch. As she watched them sleep, she cackled. I'll soon fattin' these two up. Then they will make a proper meal for me. The following morning, the witch dragged Hansel from his bed and threw him into a cage. Then, she made Gretel cook her brother a big breakfast. Your brother is too skinny. The witch told Gretel. I'll keep him locked up until he is nice and plump. And then I'll eat him up. Over the next few days, Hansel ate as much food as he could. And every morning, the witch made him stick out his finger so she could feel whether he was bad enough to eat. But Hansel was clever. He knew the old witch could hardly see, so he stuck a chickenbone through the cage instead. Still too scrawny. The witch would say. One day, the witch grew tired of waiting. Whether he be fatter or thinner, I'll have Hansel for my dinner. She crowed. Like the oven. The witch ordered Gretel. Now crawl in and see whether it's hot enough. Gretel knew the witch was planning to cook her as well. So she decided to trick the witch. The oven's much too small for me. She said. Even I could fit inside that oven. Look. Set the witch, sticking her head inside. The witch let out a big... EW! As Gretel pushed her into the oven and slammed the door shut. Gretel freed Hansel from his cage, and they danced happily around the kitchen. We're safe! They sang. When the children looked around the witch's house, they found chests crammed with gold and sparkling jewels. They filled their pockets before they set off for home. Back in the woods, the white bird back into them again. This time, it let them straight home, where their delighted father greeted them with hugs and kisses. He told them that their cruel stepmother had died, so they had nothing to fear. Hansel and Gretel showed him the treasure they had found. We will never go hungry again! He said. They all lived happily ever after, and the white bird sat on their rooftop and sang for them every day. The End. If you enjoyed this book, you too can have your own copy. Just use the link in my description box below to know where you can get it. Don't forget to like, subscribe, and share this video with a good friend! I just can't wait to read to you again. Until next time, Desi Stars.\n"
     ]
    }
   ],
   "source": [
    "model = pywhisper.load_model(\"base\")\n",
    "result = model.transcribe(\"output.mp3\")\n",
    "print(result[\"text\"])"
   ]
  },
  {
   "cell_type": "markdown",
   "id": "a1092547-bac5-499c-85a7-d942c4a811b5",
   "metadata": {},
   "source": [
    "## Generate the summary:"
   ]
  },
  {
   "cell_type": "code",
   "execution_count": null,
   "id": "285ff0d9-b3a1-4180-9340-2c220da658dc",
   "metadata": {},
   "outputs": [],
   "source": [
    "if session_token is not 'insertyourtoken':\n",
    "    api = ChatGPT(session_token)  # auth with session token\n",
    "else:\n",
    "    api = ChatGPT(email='example@domain.com', password='password', auth_type='openai')  # auth with email and password"
   ]
  },
  {
   "cell_type": "markdown",
   "id": "73e34c02-3f7e-4598-9fea-3488568f7472",
   "metadata": {},
   "source": [
    "## Generate a summary of your given YouTube video:"
   ]
  },
  {
   "cell_type": "code",
   "execution_count": 6,
   "id": "f8827466-3647-423e-9e29-f7385d781a53",
   "metadata": {},
   "outputs": [
    {
     "name": "stdout",
     "output_type": "stream",
     "text": [
      "Hansel and Gretel is a story about two siblings who are left in the forest by their stepmother and father, who are struggling to provide for the family. As they are trying to find their way home, they come across a gingerbread house and are welcomed inside by a kind old woman. However, the old woman is actually a wicked witch who plans to fatten up Hansel and then eat him. Gretel outwits the witch and the two siblings are able to escape and find their way home. Along the way, Hansel leaves a trail of bread crumbs to help them find their way back, but the bread crumbs are eaten by birds. Despite this setback, the siblings are able to outsmart the witch and find their way home safely.\n",
      "\n",
      "\n"
     ]
    }
   ],
   "source": [
    "resp = api.send_message(f'Write a summary of:\\n{result[\"text\"]}')\n",
    "print(resp['message'])"
   ]
  },
  {
   "cell_type": "code",
   "execution_count": null,
   "id": "85c3a8f9-9dcf-421b-a798-e958021d6f14",
   "metadata": {},
   "outputs": [],
   "source": []
  }
 ],
 "metadata": {
  "kernelspec": {
   "display_name": "Python 3 (ipykernel)",
   "language": "python",
   "name": "python3"
  },
  "language_info": {
   "codemirror_mode": {
    "name": "ipython",
    "version": 3
   },
   "file_extension": ".py",
   "mimetype": "text/x-python",
   "name": "python",
   "nbconvert_exporter": "python",
   "pygments_lexer": "ipython3",
   "version": "3.10.8"
  }
 },
 "nbformat": 4,
 "nbformat_minor": 5
}
